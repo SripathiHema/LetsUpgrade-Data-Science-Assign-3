{
 "cells": [
  {
   "cell_type": "markdown",
   "metadata": {},
   "source": [
    "# Question 1 Answer:"
   ]
  },
  {
   "cell_type": "code",
   "execution_count": 3,
   "metadata": {},
   "outputs": [
    {
     "name": "stdout",
     "output_type": "stream",
     "text": [
      "[ 2  5  8 11 14 17 20 23 26 29 32 35 38 41 44 47]\n"
     ]
    }
   ],
   "source": [
    "import numpy as np\n",
    "arr=np.arange(2,50,3)\n",
    "print(arr)"
   ]
  },
  {
   "cell_type": "markdown",
   "metadata": {},
   "source": [
    "# Question 2 Answer:"
   ]
  },
  {
   "cell_type": "code",
   "execution_count": 12,
   "metadata": {},
   "outputs": [
    {
     "name": "stdout",
     "output_type": "stream",
     "text": [
      "enter the values for list1\n",
      "20\n",
      "10\n",
      "90\n",
      "40\n",
      "30\n",
      "enter the values for list2\n",
      "40\n",
      "60\n",
      "10\n",
      "2\n",
      "34\n",
      "concatenated array\n",
      " [20 10 90 40 30 40 60 10  2 34]\n",
      "sorted array\n",
      " [ 2 10 10 20 30 34 40 40 60 90]\n"
     ]
    }
   ],
   "source": [
    "l1=[]\n",
    "n=5\n",
    "print(\"enter the values for list1\")\n",
    "for i in range(0,n):\n",
    "    nn=int(input())\n",
    "    l1.append(nn)\n",
    "    \n",
    "l2=[]\n",
    "print(\"enter the values for list2\")\n",
    "for i in range(0,n):\n",
    "    nm=int(input())\n",
    "    l2.append(nm)\n",
    "\n",
    "aa=np.array(l1)\n",
    "bb=np.array(l2)\n",
    "\n",
    "cc=np.concatenate((aa,bb))\n",
    "print(\"concatenated array\\n\",cc)\n",
    "print(\"sorted array\\n\",np.sort(cc))"
   ]
  },
  {
   "cell_type": "markdown",
   "metadata": {},
   "source": [
    "# Question 3 Answer:"
   ]
  },
  {
   "cell_type": "code",
   "execution_count": 23,
   "metadata": {},
   "outputs": [
    {
     "name": "stdout",
     "output_type": "stream",
     "text": [
      "dimensions is 1\n",
      "size of array is 12\n"
     ]
    }
   ],
   "source": [
    "ar=np.array([1,2,3,4,5,6,7,8,9,10,11,12])\n",
    "print(\"dimensions is\",np.ndim(ar))\n",
    "print(\"size of array is\",ar.size)"
   ]
  },
  {
   "cell_type": "markdown",
   "metadata": {},
   "source": [
    "# Question 4 Answer:"
   ]
  },
  {
   "cell_type": "code",
   "execution_count": 34,
   "metadata": {},
   "outputs": [
    {
     "name": "stdout",
     "output_type": "stream",
     "text": [
      "2darr is\n",
      " [[[1 2 3]\n",
      "  [4 5 6]]]\n",
      "(1, 2, 3)\n",
      "2darr is\n",
      " [[[1 2 3]\n",
      "  [4 5 6]]]\n",
      "(1, 2, 3)\n"
     ]
    }
   ],
   "source": [
    "darr=np.array([1,2,3,4,5,6]).reshape(2,3)\n",
    "print(\"2darr is\\n\",darr[np.newaxis])\n",
    "print(darr[np.newaxis].shape)\n",
    "print(\"2darr is\\n\",np.expand_dims(darr,0))\n",
    "print(np.expand_dims(darr,0).shape)"
   ]
  },
  {
   "cell_type": "markdown",
   "metadata": {},
   "source": [
    "# Question 5 Answer:"
   ]
  },
  {
   "cell_type": "code",
   "execution_count": 36,
   "metadata": {},
   "outputs": [
    {
     "name": "stdout",
     "output_type": "stream",
     "text": [
      "Vertical Stacking\n",
      " [[1 2]\n",
      " [3 4]\n",
      " [5 6]\n",
      " [7 8]]\n",
      "Horoizontal Stacking\n",
      " [[1 2 5 6]\n",
      " [3 4 7 8]]\n"
     ]
    }
   ],
   "source": [
    "snpar1=np.array([[1,2],[3,4]])\n",
    "snpar2=np.array([[5,6],[7,8]])\n",
    "print(\"Vertical Stacking\\n\",np.vstack((snpar1,snpar2)))\n",
    "print(\"Horoizontal Stacking\\n\",np.hstack((snpar1,snpar2)))"
   ]
  },
  {
   "cell_type": "markdown",
   "metadata": {},
   "source": [
    "# Question 6 Answer:"
   ]
  },
  {
   "cell_type": "code",
   "execution_count": 9,
   "metadata": {},
   "outputs": [
    {
     "name": "stdout",
     "output_type": "stream",
     "text": [
      "unique values\n",
      " [10 20 30 40 50 60 70 80 90]\n",
      "total unique values\n",
      " 9\n"
     ]
    }
   ],
   "source": [
    "import numpy as np\n",
    "arr=np.array([10,20,30,30,30,40,50,50,60,70,80,90])\n",
    "uval=np.unique(arr)\n",
    "print(\"unique values\\n\",uval)\n",
    "print(\"total unique values\\n\",np.size(uval))"
   ]
  }
 ],
 "metadata": {
  "kernelspec": {
   "display_name": "Python 3",
   "language": "python",
   "name": "python3"
  },
  "language_info": {
   "codemirror_mode": {
    "name": "ipython",
    "version": 3
   },
   "file_extension": ".py",
   "mimetype": "text/x-python",
   "name": "python",
   "nbconvert_exporter": "python",
   "pygments_lexer": "ipython3",
   "version": "3.8.3"
  }
 },
 "nbformat": 4,
 "nbformat_minor": 4
}
